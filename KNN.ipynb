{
  "cells": [
    {
      "cell_type": "markdown",
      "metadata": {},
      "source": [
        "# PRACTICAL 15"
      ]
    },
    {
      "cell_type": "markdown",
      "metadata": {},
      "source": [
        "## 15. Implement k-nearest neighbour algorithm."
      ]
    },
    {
      "cell_type": "code",
      "execution_count": 2,
      "metadata": {
        "id": "MYyCiJsrzYXo"
      },
      "outputs": [],
      "source": [
        "import numpy as np\n",
        "import pandas as pd\n",
        "import matplotlib.pyplot as plt"
      ]
    },
    {
      "cell_type": "code",
      "execution_count": 3,
      "metadata": {
        "id": "CIvIXk-LqS3X"
      },
      "outputs": [],
      "source": [
        "class KNN:\n",
        "    def __init__(self, k):\n",
        "        self.k = k\n",
        "\n",
        "    def fit(self, X, y):\n",
        "        self.X_train = X\n",
        "        self.y_train = y\n",
        "\n",
        "    def predict(self, X_test):\n",
        "        # Compute Euclidean distances to all training points\n",
        "        distances = np.sqrt((X_test['Height'] - self.X_train['Height'])**2 + (X_test['Weight'] - self.X_train['Weight'])**2)\n",
        "\n",
        "        # Combine distances with labels\n",
        "        neighbors = pd.DataFrame({\n",
        "            'distance': distances,\n",
        "            'label': self.y_train\n",
        "        })\n",
        "\n",
        "        # Sort by distance and pick top k\n",
        "        top_k = neighbors.sort_values(by='distance').head(self.k)\n",
        "\n",
        "        # Count occurrences of each label\n",
        "        label_counts = top_k['label'].value_counts()\n",
        "\n",
        "        # Return the most frequent label\n",
        "        return label_counts.idxmax()"
      ]
    },
    {
      "cell_type": "code",
      "execution_count": 4,
      "metadata": {
        "colab": {
          "base_uri": "https://localhost:8080/",
          "height": 206
        },
        "id": "t8Y3pIQAzioz",
        "outputId": "9cbb4b82-7f0d-4919-a068-6fc5a93fdfb5"
      },
      "outputs": [
        {
          "data": {
            "text/html": [
              "<div>\n",
              "<style scoped>\n",
              "    .dataframe tbody tr th:only-of-type {\n",
              "        vertical-align: middle;\n",
              "    }\n",
              "\n",
              "    .dataframe tbody tr th {\n",
              "        vertical-align: top;\n",
              "    }\n",
              "\n",
              "    .dataframe thead th {\n",
              "        text-align: right;\n",
              "    }\n",
              "</style>\n",
              "<table border=\"1\" class=\"dataframe\">\n",
              "  <thead>\n",
              "    <tr style=\"text-align: right;\">\n",
              "      <th></th>\n",
              "      <th>Height</th>\n",
              "      <th>Weight</th>\n",
              "      <th>Target</th>\n",
              "    </tr>\n",
              "  </thead>\n",
              "  <tbody>\n",
              "    <tr>\n",
              "      <th>0</th>\n",
              "      <td>150</td>\n",
              "      <td>50</td>\n",
              "      <td>medium</td>\n",
              "    </tr>\n",
              "    <tr>\n",
              "      <th>1</th>\n",
              "      <td>155</td>\n",
              "      <td>55</td>\n",
              "      <td>medium</td>\n",
              "    </tr>\n",
              "    <tr>\n",
              "      <th>2</th>\n",
              "      <td>160</td>\n",
              "      <td>60</td>\n",
              "      <td>large</td>\n",
              "    </tr>\n",
              "    <tr>\n",
              "      <th>3</th>\n",
              "      <td>161</td>\n",
              "      <td>59</td>\n",
              "      <td>large</td>\n",
              "    </tr>\n",
              "    <tr>\n",
              "      <th>4</th>\n",
              "      <td>158</td>\n",
              "      <td>65</td>\n",
              "      <td>large</td>\n",
              "    </tr>\n",
              "  </tbody>\n",
              "</table>\n",
              "</div>"
            ],
            "text/plain": [
              "   Height  Weight  Target\n",
              "0     150      50  medium\n",
              "1     155      55  medium\n",
              "2     160      60   large\n",
              "3     161      59   large\n",
              "4     158      65   large"
            ]
          },
          "execution_count": 4,
          "metadata": {},
          "output_type": "execute_result"
        }
      ],
      "source": [
        "# Training data\n",
        "df = pd.DataFrame({'Height': [150,155,160,161,158],\n",
        "                   'Weight': [50,55,60,59,65],\n",
        "                   'Target': ['medium','medium','large','large','large']})\n",
        "df"
      ]
    },
    {
      "cell_type": "code",
      "execution_count": 5,
      "metadata": {
        "id": "NUm-2OA40XRG"
      },
      "outputs": [],
      "source": [
        "# Predicted Data\n",
        "test_point = pd.Series({'Height': 157, 'Weight': 54})\n"
      ]
    },
    {
      "cell_type": "code",
      "execution_count": 12,
      "metadata": {
        "colab": {
          "base_uri": "https://localhost:8080/",
          "height": 472
        },
        "id": "GAM7s5JSvZUp",
        "outputId": "c1644091-b38c-404e-a558-82bdab279949"
      },
      "outputs": [
        {
          "data": {
            "image/png": "[encoded data removed]",
            "text/plain": [
              "<Figure size 640x480 with 1 Axes>"
            ]
          },
          "metadata": {},
          "output_type": "display_data"
        }
      ],
      "source": [
        "# Create two separate DataFrames for each class\n",
        "df_medium = df[df['Target'] == 'medium']\n",
        "df_large = df[df['Target'] == 'large']\n",
        "\n",
        "# Plot medium points (green)\n",
        "plt.scatter(df_medium['Height'], df_medium['Weight'], color='green', label='Training data - Medium')\n",
        "\n",
        "# Plot large points (red)\n",
        "plt.scatter(df_large['Height'], df_large['Weight'], color='red', label='Training data - Large', marker='s')\n",
        "\n",
        "plt.scatter(test_point['Height'], test_point['Weight'], color='blue', label='Test Point', marker='^')\n",
        "plt.title('KNN: Training Data and Test Point')\n",
        "plt.xlabel('Height')\n",
        "plt.ylabel('Weight')\n",
        "plt.legend()\n",
        "plt.show()"
      ]
    },
    {
      "cell_type": "code",
      "execution_count": 7,
      "metadata": {
        "id": "Agz5rioYoPZQ"
      },
      "outputs": [],
      "source": [
        "# Separate features and target\n",
        "X = df[['Height', 'Weight']]\n",
        "y = df['Target']"
      ]
    },
    {
      "cell_type": "code",
      "execution_count": 8,
      "metadata": {
        "colab": {
          "base_uri": "https://localhost:8080/",
          "height": 0
        },
        "id": "qpRPudJhqw0g",
        "outputId": "6f705f10-b68c-4612-c54a-275f1b222a94"
      },
      "outputs": [
        {
          "name": "stdout",
          "output_type": "stream",
          "text": [
            "Predicted class: large\n"
          ]
        }
      ],
      "source": [
        "# Create and use the KNN model\n",
        "model = KNN(3)\n",
        "model.fit(X, y)\n",
        "prediction = model.predict(test_point)\n",
        "\n",
        "print(\"Predicted class:\", prediction)"
      ]
    },
    {
      "cell_type": "code",
      "execution_count": 9,
      "metadata": {
        "id": "VKpvWTSWyGtc"
      },
      "outputs": [],
      "source": [
        "# Assign color based on prediction\n",
        "color_map = {'medium': 'green', 'large': 'red'}\n",
        "test_color = color_map[prediction]"
      ]
    },
    {
      "cell_type": "code",
      "execution_count": null,
      "metadata": {
        "colab": {
          "base_uri": "https://localhost:8080/",
          "height": 472
        },
        "id": "tpHVFO9avqSj",
        "outputId": "20f53b0a-91e7-4900-cf6d-3296512f93c1"
      },
      "outputs": [
        {
          "data": {
            "image/png": "[encoded data removed]",
            "text/plain": [
              "<Figure size 640x480 with 1 Axes>"
            ]
          },
          "metadata": {},
          "output_type": "display_data"
        }
      ],
      "source": [
        "# Create two separate DataFrames for each class\n",
        "df_medium = df[df['Target'] == 'medium']\n",
        "df_large = df[df['Target'] == 'large']\n",
        "\n",
        "# Plot medium points (green)\n",
        "plt.scatter(df_medium['Height'], df_medium['Weight'], color='green', label='Training - Medium')\n",
        "\n",
        "# Plot large points (red)\n",
        "plt.scatter(df_large['Height'], df_large['Weight'], color='red', label='Training - Large', marker='s')\n",
        "\n",
        "# Plot test point with predicted color\n",
        "plt.scatter(test_point['Height'], test_point['Weight'],color=test_color, label=f'Test Point (Predicted: {prediction})', marker='s')\n",
        "\n",
        "# Labels and legend\n",
        "plt.title('KNN: Training Data and Test Point with Prediction')\n",
        "plt.xlabel('Height')\n",
        "plt.ylabel('Weight')\n",
        "plt.legend()\n",
        "plt.show()"
      ]
    },
    {
      "cell_type": "code",
      "execution_count": null,
      "metadata": {},
      "outputs": [],
      "source": []
    }
  ],
  "metadata": {
    "colab": {
      "provenance": []
    },
    "kernelspec": {
      "display_name": "Python 3",
      "name": "python3"
    },
    "language_info": {
      "codemirror_mode": {
        "name": "ipython",
        "version": 3
      },
      "file_extension": ".py",
      "mimetype": "text/x-python",
      "name": "python",
      "nbconvert_exporter": "python",
      "pygments_lexer": "ipython3",
      "version": "3.13.1"
    }
  },
  "nbformat": 4,
  "nbformat_minor": 0
}
